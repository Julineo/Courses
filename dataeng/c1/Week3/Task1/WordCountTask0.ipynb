{
 "cells": [
  {
   "cell_type": "code",
   "execution_count": 10,
   "metadata": {},
   "outputs": [
    {
     "name": "stdout",
     "output_type": "stream",
     "text": [
      "Writing mapper.py\n"
     ]
    }
   ],
   "source": [
    "%%writefile mapper.py\n",
    "\n",
    "import sys\n",
    "import re\n",
    "\n",
    "reload(sys)\n",
    "sys.setdefaultencoding('utf-8') # required to convert to unicode\n",
    "\n",
    "for line in sys.stdin:\n",
    "    try:\n",
    "        article_id, text = unicode(line.strip()).split('\\t', 1)\n",
    "    except ValueError as e:\n",
    "        continue\n",
    "    words = re.split(\"\\W*\\s+\\W*\", text, flags=re.UNICODE)\n",
    "    for word in words:\n",
    "        print >> sys.stderr, \"reporter:counter:Wiki stats,Total words,%d\" % 1\n",
    "        print \"%s\\t%d\" % (word.lower(), 1)"
   ]
  },
  {
   "cell_type": "code",
   "execution_count": 11,
   "metadata": {},
   "outputs": [
    {
     "name": "stdout",
     "output_type": "stream",
     "text": [
      "Writing reducer.py\n"
     ]
    }
   ],
   "source": [
    "%%writefile reducer.py\n",
    "\n",
    "import sys\n",
    "\n",
    "current_key = None\n",
    "word_sum = 0"
   ]
  },
  {
   "cell_type": "code",
   "execution_count": 12,
   "metadata": {},
   "outputs": [
    {
     "name": "stdout",
     "output_type": "stream",
     "text": [
      "Appending to reducer.py\n"
     ]
    }
   ],
   "source": [
    "%%writefile -a reducer.py\n",
    "\n",
    "print \"%s\\t%d\" % (\"test_test\", 500)\n",
    "\n",
    "for line in sys.stdin:\n",
    "    try:\n",
    "        key, count = line.strip().split('\\t', 1)\n",
    "        count = int(count)\n",
    "    except ValueError as e:\n",
    "        continue\n",
    "    if current_key != key:\n",
    "        if current_key:\n",
    "            print \"%s\\t%d\" % (current_key, word_sum)\n",
    "        word_sum = 0\n",
    "        current_key = key\n",
    "    word_sum += count\n",
    "\n",
    "if current_key:\n",
    "    print \"%s\\t%d\" % (current_key, word_sum)\n",
    "    \n"
   ]
  },
  {
   "cell_type": "code",
   "execution_count": 5,
   "metadata": {},
   "outputs": [
    {
     "name": "stdout",
     "output_type": "stream",
     "text": [
      "Found 1 items\r\n",
      "drwxrwxrwx   - jovyan supergroup          0 2018-08-01 17:15 /data/wiki/en_articles_part\r\n"
     ]
    }
   ],
   "source": [
    "! hdfs dfs -ls /data/wiki"
   ]
  },
  {
   "cell_type": "code",
   "execution_count": 13,
   "metadata": {},
   "outputs": [
    {
     "name": "stdout",
     "output_type": "stream",
     "text": [
      "test_test\t500\n",
      "test_test\t500\n",
      "0%however\t1\n",
      "0)).(1\t2\n",
      "0,03\t1\n",
      "0,1,0\t1\n",
      "0-03-071979-8\t1\n",
      "0-06-063447-2\t1\n",
      "0-08-025211-7\t1\n",
      "0-10-551856-5\t1\n"
     ]
    },
    {
     "name": "stderr",
     "output_type": "stream",
     "text": [
      "rm: `wordcount_result_1539038202617901': No such file or directory\n",
      "18/10/08 22:36:46 INFO client.RMProxy: Connecting to ResourceManager at /0.0.0.0:8032\n",
      "18/10/08 22:36:46 INFO client.RMProxy: Connecting to ResourceManager at /0.0.0.0:8032\n",
      "18/10/08 22:36:46 INFO mapred.FileInputFormat: Total input files to process : 1\n",
      "18/10/08 22:36:46 INFO mapreduce.JobSubmitter: number of splits:2\n",
      "18/10/08 22:36:46 INFO mapreduce.JobSubmitter: Submitting tokens for job: job_1539012427123_0003\n",
      "18/10/08 22:36:47 INFO impl.YarnClientImpl: Submitted application application_1539012427123_0003\n",
      "18/10/08 22:36:47 INFO mapreduce.Job: The url to track the job: http://56f4304f331c:8088/proxy/application_1539012427123_0003/\n",
      "18/10/08 22:36:47 INFO mapreduce.Job: Running job: job_1539012427123_0003\n",
      "18/10/08 22:36:53 INFO mapreduce.Job: Job job_1539012427123_0003 running in uber mode : false\n",
      "18/10/08 22:36:53 INFO mapreduce.Job:  map 0% reduce 0%\n",
      "18/10/08 22:37:09 INFO mapreduce.Job:  map 29% reduce 0%\n",
      "18/10/08 22:37:15 INFO mapreduce.Job:  map 44% reduce 0%\n",
      "18/10/08 22:37:21 INFO mapreduce.Job:  map 46% reduce 0%\n",
      "18/10/08 22:37:27 INFO mapreduce.Job:  map 58% reduce 0%\n",
      "18/10/08 22:37:33 INFO mapreduce.Job:  map 67% reduce 0%\n",
      "18/10/08 22:37:37 INFO mapreduce.Job:  map 83% reduce 0%\n",
      "18/10/08 22:37:38 INFO mapreduce.Job:  map 100% reduce 0%\n",
      "18/10/08 22:37:44 INFO mapreduce.Job:  map 100% reduce 25%\n",
      "18/10/08 22:37:45 INFO mapreduce.Job:  map 100% reduce 38%\n",
      "18/10/08 22:37:47 INFO mapreduce.Job:  map 100% reduce 63%\n",
      "18/10/08 22:37:48 INFO mapreduce.Job:  map 100% reduce 75%\n",
      "18/10/08 22:37:49 INFO mapreduce.Job:  map 100% reduce 100%\n",
      "18/10/08 22:37:50 INFO mapreduce.Job: Job job_1539012427123_0003 completed successfully\n",
      "18/10/08 22:37:50 INFO mapreduce.Job: Counters: 51\n",
      "\tFile System Counters\n",
      "\t\tFILE: Number of bytes read=17955402\n",
      "\t\tFILE: Number of bytes written=28259599\n",
      "\t\tFILE: Number of read operations=0\n",
      "\t\tFILE: Number of large read operations=0\n",
      "\t\tFILE: Number of write operations=0\n",
      "\t\tHDFS: Number of bytes read=76874501\n",
      "\t\tHDFS: Number of bytes written=7442667\n",
      "\t\tHDFS: Number of read operations=30\n",
      "\t\tHDFS: Number of large read operations=0\n",
      "\t\tHDFS: Number of write operations=16\n",
      "\tJob Counters \n",
      "\t\tKilled reduce tasks=1\n",
      "\t\tLaunched map tasks=2\n",
      "\t\tLaunched reduce tasks=8\n",
      "\t\tData-local map tasks=2\n",
      "\t\tTotal time spent by all maps in occupied slots (ms)=84538\n",
      "\t\tTotal time spent by all reduces in occupied slots (ms)=32105\n",
      "\t\tTotal time spent by all map tasks (ms)=84538\n",
      "\t\tTotal time spent by all reduce tasks (ms)=32105\n",
      "\t\tTotal vcore-milliseconds taken by all map tasks=84538\n",
      "\t\tTotal vcore-milliseconds taken by all reduce tasks=32105\n",
      "\t\tTotal megabyte-milliseconds taken by all map tasks=86566912\n",
      "\t\tTotal megabyte-milliseconds taken by all reduce tasks=32875520\n",
      "\tMap-Reduce Framework\n",
      "\t\tMap input records=4100\n",
      "\t\tMap output records=11937375\n",
      "\t\tMap output bytes=97842436\n",
      "\t\tMap output materialized bytes=8953275\n",
      "\t\tInput split bytes=228\n",
      "\t\tCombine input records=11937375\n",
      "\t\tCombine output records=640043\n",
      "\t\tReduce input groups=618360\n",
      "\t\tReduce shuffle bytes=8953275\n",
      "\t\tReduce input records=640043\n",
      "\t\tReduce output records=618368\n",
      "\t\tSpilled Records=1920129\n",
      "\t\tShuffled Maps =16\n",
      "\t\tFailed Shuffles=0\n",
      "\t\tMerged Map outputs=16\n",
      "\t\tGC time elapsed (ms)=1660\n",
      "\t\tCPU time spent (ms)=150310\n",
      "\t\tPhysical memory (bytes) snapshot=2278363136\n",
      "\t\tVirtual memory (bytes) snapshot=20192870400\n",
      "\t\tTotal committed heap usage (bytes)=1595932672\n",
      "\tShuffle Errors\n",
      "\t\tBAD_ID=0\n",
      "\t\tCONNECTION=0\n",
      "\t\tIO_ERROR=0\n",
      "\t\tWRONG_LENGTH=0\n",
      "\t\tWRONG_MAP=0\n",
      "\t\tWRONG_REDUCE=0\n",
      "\tWiki stats\n",
      "\t\tTotal words=11937375\n",
      "\tFile Input Format Counters \n",
      "\t\tBytes Read=76874273\n",
      "\tFile Output Format Counters \n",
      "\t\tBytes Written=7442667\n",
      "18/10/08 22:37:50 INFO streaming.StreamJob: Output directory: wordcount_result_1539038202617901\n",
      "cat: Unable to write to output stream.\n"
     ]
    }
   ],
   "source": [
    "%%bash\n",
    "\n",
    "OUT_DIR=\"wordcount_result_\"$(date +\"%s%6N\")\n",
    "NUM_REDUCERS=8\n",
    "\n",
    "hdfs dfs -rm -r -skipTrash ${OUT_DIR} > /dev/null\n",
    "\n",
    "yarn jar /opt/cloudera/parcels/CDH/lib/hadoop-mapreduce/hadoop-streaming.jar \\\n",
    "    -D mapred.jab.name=\"Streaming wordCount\" \\\n",
    "    -D mapreduce.job.reduces=${NUM_REDUCERS} \\\n",
    "    -files mapper.py,reducer.py \\\n",
    "    -mapper \"python mapper.py\" \\\n",
    "    -combiner \"python reducer.py\" \\\n",
    "    -reducer \"python reducer.py\" \\\n",
    "    -input /data/wiki/en_articles_part \\\n",
    "    -output ${OUT_DIR} > /dev/null\n",
    "\n",
    "hdfs dfs -cat ${OUT_DIR}/part-00000 | head"
   ]
  },
  {
   "cell_type": "code",
   "execution_count": null,
   "metadata": {
    "collapsed": true
   },
   "outputs": [],
   "source": []
  }
 ],
 "metadata": {
  "kernelspec": {
   "display_name": "Python 2",
   "language": "python",
   "name": "python2"
  },
  "language_info": {
   "codemirror_mode": {
    "name": "ipython",
    "version": 2
   },
   "file_extension": ".py",
   "mimetype": "text/x-python",
   "name": "python",
   "nbconvert_exporter": "python",
   "pygments_lexer": "ipython2",
   "version": "2.7.12"
  }
 },
 "nbformat": 4,
 "nbformat_minor": 2
}
