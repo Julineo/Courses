{
 "cells": [
  {
   "cell_type": "markdown",
   "metadata": {
    "colab_type": "text",
    "id": "Ebk-YqgqEOw1"
   },
   "source": [
    "# Hadoop Streaming assignment 1: Words Rating"
   ]
  },
  {
   "cell_type": "markdown",
   "metadata": {
    "colab_type": "text",
    "id": "XDLjl7hGEOw2"
   },
   "source": [
    "The purpose of this task is to create your own WordCount program for Wikipedia dump processing and learn basic concepts of the MapReduce.\n",
    "\n",
    "In this task you have to find the 7th word by popularity and its quantity in the reverse order (most popular first) in Wikipedia data (`/data/wiki/en_articles_part`).\n",
    "\n",
    "There are several points for this task:\n",
    "\n",
    "1) As an output, you have to get the 7th word and its quantity separated by a tab character.\n",
    "\n",
    "2) You must use the second job to obtain a totally ordered result.\n",
    "\n",
    "3) Do not forget to redirect all trash and output to /dev/null.\n",
    "\n",
    "Here you can find the draft of the task main steps. You can use other methods for solution obtaining."
   ]
  },
  {
   "cell_type": "markdown",
   "metadata": {
    "colab_type": "text",
    "id": "lIUikVIDEOw2"
   },
   "source": [
    "## Step 1. Create mapper and reducer.\n",
    "\n",
    "<b>Hint:</b>  Demo task contains almost all the necessary pieces to complete this assignment. You may use the demo to implement the first MapReduce Job."
   ]
  },
  {
   "cell_type": "code",
   "execution_count": 2,
   "metadata": {
    "colab": {
     "autoexec": {
      "startup": false,
      "wait_interval": 0
     }
    },
    "colab_type": "code",
    "id": "A7T5mxDwEOw4"
   },
   "outputs": [
    {
     "name": "stdout",
     "output_type": "stream",
     "text": [
      "Writing mapper1.py\n"
     ]
    }
   ],
   "source": [
    "%%writefile mapper1.py\n",
    "\n",
    "import sys\n",
    "import re\n",
    "\n",
    "reload(sys)\n",
    "sys.setdefaultencoding('utf-8') # required to convert to unicode\n",
    "\n",
    "for line in sys.stdin:\n",
    "    try:\n",
    "        article_id, text = unicode(line.strip()).split('\\t', 1)\n",
    "    except ValueError as e:\n",
    "        continue\n",
    "    words = re.split(\"\\W*\\s+\\W*\", text, flags=re.UNICODE)\n",
    "    for word in words:\n",
    "        print >> sys.stderr, \"reporter:counter:Wiki stats,Total words,%d\" % 1\n",
    "        print \"%s\\t%d\" % (word.lower(), 1)"
   ]
  },
  {
   "cell_type": "code",
   "execution_count": 17,
   "metadata": {
    "colab": {
     "autoexec": {
      "startup": false,
      "wait_interval": 0
     }
    },
    "colab_type": "code",
    "id": "oE8KFKqpEOw5"
   },
   "outputs": [
    {
     "name": "stdout",
     "output_type": "stream",
     "text": [
      "Overwriting reducer1.py\n"
     ]
    }
   ],
   "source": [
    "%%writefile reducer1.py\n",
    "\n",
    "import sys\n",
    "\n",
    "current_key = None\n",
    "word_sum = 0\n",
    "\n",
    "for line in sys.stdin:\n",
    "    try:\n",
    "        key, count = line.strip().split('\\t', 1)\n",
    "        count = int(count)\n",
    "    except ValueError as e:\n",
    "        continue\n",
    "    if current_key != key:\n",
    "        if current_key:\n",
    "            print \"%s\\t%d\" % (current_key, word_sum)\n",
    "        word_sum = 0\n",
    "        current_key = key\n",
    "    word_sum += count\n",
    "\n",
    "if current_key:\n",
    "    print \"%s\\t%d\" % (current_key, word_sum)"
   ]
  },
  {
   "cell_type": "code",
   "execution_count": 4,
   "metadata": {
    "colab": {
     "autoexec": {
      "startup": false,
      "wait_interval": 0
     }
    },
    "colab_type": "code",
    "id": "LJtc3_u0uXSz"
   },
   "outputs": [],
   "source": [
    "# You can use this cell for other experiments: for example, for combiner."
   ]
  },
  {
   "cell_type": "markdown",
   "metadata": {
    "colab_type": "text",
    "id": "KYZpcwY9EOw6"
   },
   "source": [
    "## Step 2. Create sort job.\n",
    "\n",
    "<b>Hint:</b> You may use MapReduce comparator to solve this step. Make sure that the keys are sorted in ascending order."
   ]
  },
  {
   "cell_type": "code",
   "execution_count": 22,
   "metadata": {
    "colab": {
     "autoexec": {
      "startup": false,
      "wait_interval": 0
     }
    },
    "colab_type": "code",
    "id": "g-NMzQ79EOw7"
   },
   "outputs": [
    {
     "name": "stdout",
     "output_type": "stream",
     "text": [
      "Writing mapper2.py\n"
     ]
    }
   ],
   "source": [
    "%%writefile mapper2.py\n",
    "\n",
    "import sys\n",
    "\n",
    "current_key = None\n",
    "word_sum = 0\n",
    "\n",
    "for line in sys.stdin:\n",
    "    try:\n",
    "        key, count = line.strip().split('\\t', 1)\n",
    "        count = int(count)\n",
    "    except ValueError as e:\n",
    "        continue\n",
    "    if current_key != key:\n",
    "        if current_key:\n",
    "            print \"%d\\t%s\" % (word_sum, current_key)\n",
    "        word_sum = 0\n",
    "        current_key = key\n",
    "    word_sum += count\n",
    "\n",
    "if current_key:\n",
    "    print \"%d\\t%s\" % (word_sum, current_key)"
   ]
  },
  {
   "cell_type": "code",
   "execution_count": 23,
   "metadata": {
    "colab": {
     "autoexec": {
      "startup": false,
      "wait_interval": 0
     }
    },
    "colab_type": "code",
    "id": "qs6SKs7wO4be"
   },
   "outputs": [
    {
     "name": "stdout",
     "output_type": "stream",
     "text": [
      "Overwriting reducer2.py\n"
     ]
    }
   ],
   "source": [
    "%%writefile reducer2.py\n",
    "\n",
    "import sys\n",
    "\n",
    "current_key = None\n",
    "word_sum = 0\n",
    "\n",
    "for line in sys.stdin:\n",
    "    try:\n",
    "        count, key = line.strip().split('\\t', 1)\n",
    "        count = int(count)\n",
    "    except ValueError as e:\n",
    "        continue\n",
    "    if current_key != key:\n",
    "        if current_key:\n",
    "            print \"%s\\t%d\" % (current_key, word_sum)\n",
    "        word_sum = 0\n",
    "        current_key = key\n",
    "    word_sum += count\n",
    "\n",
    "if current_key:\n",
    "    print \"%s\\t%d\" % (current_key, word_sum)"
   ]
  },
  {
   "cell_type": "markdown",
   "metadata": {
    "colab_type": "text",
    "id": "4OBE81GZEOw8"
   },
   "source": [
    "## Step 3. Bash commands\n",
    "\n",
    "<b> Hint: </b> For printing the exact row you may use basic UNIX commands. For instance, sed/head/tail/... (if you know other commands, you can use them).\n",
    "\n",
    "To run both jobs, you must use two consecutive yarn-commands. Remember that the input for the second job is the ouput for the first job."
   ]
  },
  {
   "cell_type": "code",
   "execution_count": 25,
   "metadata": {
    "colab": {
     "autoexec": {
      "startup": false,
      "wait_interval": 0
     }
    },
    "colab_type": "code",
    "id": "1q9NczdIEOw9"
   },
   "outputs": [
    {
     "name": "stdout",
     "output_type": "stream",
     "text": [
      "the\t822164\n",
      "of\t447464\n",
      "and\t342715\n",
      "in\t292354\n",
      "to\t241467\n",
      "a\t236225\n",
      "is\t126420\n",
      "as\t103301\n",
      "for\t91245\n",
      "was\t90336\n"
     ]
    },
    {
     "name": "stderr",
     "output_type": "stream",
     "text": [
      "rm: `wordcount_result_1539642207630810': No such file or directory\n",
      "rm: `wordcount_result_sorted_1539642207631749': No such file or directory\n",
      "18/10/15 22:23:33 INFO client.RMProxy: Connecting to ResourceManager at /0.0.0.0:8032\n",
      "18/10/15 22:23:33 INFO client.RMProxy: Connecting to ResourceManager at /0.0.0.0:8032\n",
      "18/10/15 22:23:33 INFO mapred.FileInputFormat: Total input files to process : 1\n",
      "18/10/15 22:23:34 INFO mapreduce.JobSubmitter: number of splits:2\n",
      "18/10/15 22:23:34 INFO mapreduce.JobSubmitter: Submitting tokens for job: job_1539255727279_0016\n",
      "18/10/15 22:23:34 INFO impl.YarnClientImpl: Submitted application application_1539255727279_0016\n",
      "18/10/15 22:23:34 INFO mapreduce.Job: The url to track the job: http://ececa09f9461:8088/proxy/application_1539255727279_0016/\n",
      "18/10/15 22:23:34 INFO mapreduce.Job: Running job: job_1539255727279_0016\n",
      "18/10/15 22:23:41 INFO mapreduce.Job: Job job_1539255727279_0016 running in uber mode : false\n",
      "18/10/15 22:23:41 INFO mapreduce.Job:  map 0% reduce 0%\n",
      "18/10/15 22:23:58 INFO mapreduce.Job:  map 26% reduce 0%\n",
      "18/10/15 22:24:04 INFO mapreduce.Job:  map 40% reduce 0%\n",
      "18/10/15 22:24:10 INFO mapreduce.Job:  map 49% reduce 0%\n",
      "18/10/15 22:24:16 INFO mapreduce.Job:  map 64% reduce 0%\n",
      "18/10/15 22:24:22 INFO mapreduce.Job:  map 82% reduce 0%\n",
      "18/10/15 22:24:23 INFO mapreduce.Job:  map 90% reduce 0%\n",
      "18/10/15 22:24:24 INFO mapreduce.Job:  map 100% reduce 0%\n",
      "18/10/15 22:24:40 INFO mapreduce.Job:  map 100% reduce 83%\n",
      "18/10/15 22:24:46 INFO mapreduce.Job:  map 100% reduce 93%\n",
      "18/10/15 22:24:51 INFO mapreduce.Job:  map 100% reduce 100%\n",
      "18/10/15 22:24:51 INFO mapreduce.Job: Job job_1539255727279_0016 completed successfully\n",
      "18/10/15 22:24:51 INFO mapreduce.Job: Counters: 50\n",
      "\tFile System Counters\n",
      "\t\tFILE: Number of bytes read=267307382\n",
      "\t\tFILE: Number of bytes written=401380445\n",
      "\t\tFILE: Number of read operations=0\n",
      "\t\tFILE: Number of large read operations=0\n",
      "\t\tFILE: Number of write operations=0\n",
      "\t\tHDFS: Number of bytes read=76874501\n",
      "\t\tHDFS: Number of bytes written=5364640\n",
      "\t\tHDFS: Number of read operations=9\n",
      "\t\tHDFS: Number of large read operations=0\n",
      "\t\tHDFS: Number of write operations=2\n",
      "\tJob Counters \n",
      "\t\tLaunched map tasks=2\n",
      "\t\tLaunched reduce tasks=1\n",
      "\t\tData-local map tasks=2\n",
      "\t\tTotal time spent by all maps in occupied slots (ms)=81026\n",
      "\t\tTotal time spent by all reduces in occupied slots (ms)=25132\n",
      "\t\tTotal time spent by all map tasks (ms)=81026\n",
      "\t\tTotal time spent by all reduce tasks (ms)=25132\n",
      "\t\tTotal vcore-milliseconds taken by all map tasks=81026\n",
      "\t\tTotal vcore-milliseconds taken by all reduce tasks=25132\n",
      "\t\tTotal megabyte-milliseconds taken by all map tasks=82970624\n",
      "\t\tTotal megabyte-milliseconds taken by all reduce tasks=25735168\n",
      "\tMap-Reduce Framework\n",
      "\t\tMap input records=4100\n",
      "\t\tMap output records=11937375\n",
      "\t\tMap output bytes=109778911\n",
      "\t\tMap output materialized bytes=133653685\n",
      "\t\tInput split bytes=228\n",
      "\t\tCombine input records=0\n",
      "\t\tCombine output records=0\n",
      "\t\tReduce input groups=427144\n",
      "\t\tReduce shuffle bytes=133653685\n",
      "\t\tReduce input records=11937375\n",
      "\t\tReduce output records=426862\n",
      "\t\tSpilled Records=35812125\n",
      "\t\tShuffled Maps =2\n",
      "\t\tFailed Shuffles=0\n",
      "\t\tMerged Map outputs=2\n",
      "\t\tGC time elapsed (ms)=1118\n",
      "\t\tCPU time spent (ms)=164730\n",
      "\t\tPhysical memory (bytes) snapshot=804347904\n",
      "\t\tVirtual memory (bytes) snapshot=6040264704\n",
      "\t\tTotal committed heap usage (bytes)=567279616\n",
      "\tShuffle Errors\n",
      "\t\tBAD_ID=0\n",
      "\t\tCONNECTION=0\n",
      "\t\tIO_ERROR=0\n",
      "\t\tWRONG_LENGTH=0\n",
      "\t\tWRONG_MAP=0\n",
      "\t\tWRONG_REDUCE=0\n",
      "\tWiki stats\n",
      "\t\tTotal words=11937375\n",
      "\tFile Input Format Counters \n",
      "\t\tBytes Read=76874273\n",
      "\tFile Output Format Counters \n",
      "\t\tBytes Written=5364640\n",
      "18/10/15 22:24:51 INFO streaming.StreamJob: Output directory: wordcount_result_1539642207630810\n",
      "18/10/15 22:24:53 INFO client.RMProxy: Connecting to ResourceManager at /0.0.0.0:8032\n",
      "18/10/15 22:24:53 INFO client.RMProxy: Connecting to ResourceManager at /0.0.0.0:8032\n",
      "18/10/15 22:24:54 INFO mapred.FileInputFormat: Total input files to process : 1\n",
      "18/10/15 22:24:54 INFO mapreduce.JobSubmitter: number of splits:2\n",
      "18/10/15 22:24:55 INFO mapreduce.JobSubmitter: Submitting tokens for job: job_1539255727279_0017\n",
      "18/10/15 22:24:55 INFO impl.YarnClientImpl: Submitted application application_1539255727279_0017\n",
      "18/10/15 22:24:55 INFO mapreduce.Job: The url to track the job: http://ececa09f9461:8088/proxy/application_1539255727279_0017/\n",
      "18/10/15 22:24:55 INFO mapreduce.Job: Running job: job_1539255727279_0017\n",
      "18/10/15 22:25:03 INFO mapreduce.Job: Job job_1539255727279_0017 running in uber mode : false\n",
      "18/10/15 22:25:03 INFO mapreduce.Job:  map 0% reduce 0%\n",
      "18/10/15 22:25:09 INFO mapreduce.Job:  map 100% reduce 0%\n",
      "18/10/15 22:25:16 INFO mapreduce.Job:  map 100% reduce 100%\n",
      "18/10/15 22:25:16 INFO mapreduce.Job: Job job_1539255727279_0017 completed successfully\n",
      "18/10/15 22:25:16 INFO mapreduce.Job: Counters: 49\n",
      "\tFile System Counters\n",
      "\t\tFILE: Number of bytes read=6645255\n",
      "\t\tFILE: Number of bytes written=13711550\n",
      "\t\tFILE: Number of read operations=0\n",
      "\t\tFILE: Number of large read operations=0\n",
      "\t\tFILE: Number of write operations=0\n",
      "\t\tHDFS: Number of bytes read=5368996\n",
      "\t\tHDFS: Number of bytes written=5364640\n",
      "\t\tHDFS: Number of read operations=9\n",
      "\t\tHDFS: Number of large read operations=0\n",
      "\t\tHDFS: Number of write operations=2\n",
      "\tJob Counters \n",
      "\t\tLaunched map tasks=2\n",
      "\t\tLaunched reduce tasks=1\n",
      "\t\tData-local map tasks=2\n",
      "\t\tTotal time spent by all maps in occupied slots (ms)=7356\n",
      "\t\tTotal time spent by all reduces in occupied slots (ms)=4738\n",
      "\t\tTotal time spent by all map tasks (ms)=7356\n",
      "\t\tTotal time spent by all reduce tasks (ms)=4738\n",
      "\t\tTotal vcore-milliseconds taken by all map tasks=7356\n",
      "\t\tTotal vcore-milliseconds taken by all reduce tasks=4738\n",
      "\t\tTotal megabyte-milliseconds taken by all map tasks=7532544\n",
      "\t\tTotal megabyte-milliseconds taken by all reduce tasks=4851712\n",
      "\tMap-Reduce Framework\n",
      "\t\tMap input records=426862\n",
      "\t\tMap output records=426862\n",
      "\t\tMap output bytes=5791513\n",
      "\t\tMap output materialized bytes=6645261\n",
      "\t\tInput split bytes=260\n",
      "\t\tCombine input records=0\n",
      "\t\tCombine output records=0\n",
      "\t\tReduce input groups=426862\n",
      "\t\tReduce shuffle bytes=6645261\n",
      "\t\tReduce input records=426862\n",
      "\t\tReduce output records=426862\n",
      "\t\tSpilled Records=853724\n",
      "\t\tShuffled Maps =2\n",
      "\t\tFailed Shuffles=0\n",
      "\t\tMerged Map outputs=2\n",
      "\t\tGC time elapsed (ms)=260\n",
      "\t\tCPU time spent (ms)=9200\n",
      "\t\tPhysical memory (bytes) snapshot=806273024\n",
      "\t\tVirtual memory (bytes) snapshot=6035607552\n",
      "\t\tTotal committed heap usage (bytes)=532676608\n",
      "\tShuffle Errors\n",
      "\t\tBAD_ID=0\n",
      "\t\tCONNECTION=0\n",
      "\t\tIO_ERROR=0\n",
      "\t\tWRONG_LENGTH=0\n",
      "\t\tWRONG_MAP=0\n",
      "\t\tWRONG_REDUCE=0\n",
      "\tFile Input Format Counters \n",
      "\t\tBytes Read=5368736\n",
      "\tFile Output Format Counters \n",
      "\t\tBytes Written=5364640\n",
      "18/10/15 22:25:16 INFO streaming.StreamJob: Output directory: wordcount_result_sorted_1539642207631749\n",
      "cat: Unable to write to output stream.\n"
     ]
    }
   ],
   "source": [
    "%%bash\n",
    "\n",
    "#OUT_DIR=\"assignment1_\"$(date +\"%s%6N\")\n",
    "\n",
    "# Code for your first job\n",
    "# yarn jar /opt/cloudera/parcels/CDH/lib/hadoop-mapreduce/hadoop-streaming.jar ...\n",
    "\n",
    "# Code for your second job\n",
    "# yarn jar /opt/cloudera/parcels/CDH/lib/hadoop-mapreduce/hadoop-streaming.jar ...\n",
    "\n",
    "# Code for obtaining the results\n",
    "#hdfs dfs -cat ${OUT_DIR}/part-00000 | sed -n '7p;8q'\n",
    "#hdfs dfs -rm -r -skipTrash ${OUT_DIR}* > /dev/null\n",
    "\n",
    "OUT_DIR=\"wordcount_result_\"$(date +\"%s%6N\")\n",
    "OUT_DIR2=\"wordcount_result_sorted_\"$(date +\"%s%6N\")\n",
    "NUM_REDUCERS=1\n",
    "\n",
    "hdfs dfs -rm -r -skipTrash ${OUT_DIR} > /dev/null\n",
    "hdfs dfs -rm -r -skipTrash ${OUT_DIR2} > /dev/null\n",
    "\n",
    "yarn jar /opt/cloudera/parcels/CDH/lib/hadoop-mapreduce/hadoop-streaming.jar \\\n",
    "    -D mapred.jab.name=\"Streaming wordCount\" \\\n",
    "    -D mapreduce.job.reduces=${NUM_REDUCERS} \\\n",
    "    -D stream.map.output.field.separator=\"/t\" \\\n",
    "    -files mapper1.py,reducer1.py \\\n",
    "    -mapper \"python mapper1.py\" \\\n",
    "    -reducer \"python reducer1.py\" \\\n",
    "    -input /data/wiki/en_articles_part \\\n",
    "    -output ${OUT_DIR} > /dev/null\n",
    "\n",
    "#hdfs dfs -cat ${OUT_DIR}/part-00000 | head\n",
    "\n",
    "\n",
    "yarn jar /opt/cloudera/parcels/CDH/lib/hadoop-mapreduce/hadoop-streaming.jar \\\n",
    "    -D mapreduce.job.output.key.comparator.class=org.apache.hadoop.mapreduce.lib.partition.KeyFieldBasedComparator \\\n",
    "    -D mapred.jab.name=\"Streaming wordCount\" \\\n",
    "    -D mapreduce.job.reduces=${NUM_REDUCERS} \\\n",
    "    -D stream.map.output.field.separator=\"/t\" \\\n",
    "    -D stream.num.map.output.key.fields=1 \\\n",
    "    -D mapreduce.partition.keycomparator.options=-k1,1nr \\\n",
    "    -files mapper2.py,reducer2.py \\\n",
    "    -mapper \"python mapper2.py\" \\\n",
    "    -reducer \"python reducer2.py\" \\\n",
    "    -input ${OUT_DIR}/part-00000 \\\n",
    "    -output ${OUT_DIR2} > /dev/null\n",
    "\n",
    "hdfs dfs -cat ${OUT_DIR2}/part-00000 | head"
   ]
  },
  {
   "cell_type": "code",
   "execution_count": null,
   "metadata": {},
   "outputs": [],
   "source": []
  }
 ],
 "metadata": {
  "colab": {
   "collapsed_sections": [],
   "default_view": {},
   "name": "701_to_students.ipynb",
   "provenance": [],
   "version": "0.3.2",
   "views": {}
  },
  "kernelspec": {
   "display_name": "Python 2",
   "language": "python",
   "name": "python2"
  },
  "language_info": {
   "codemirror_mode": {
    "name": "ipython",
    "version": 2
   },
   "file_extension": ".py",
   "mimetype": "text/x-python",
   "name": "python",
   "nbconvert_exporter": "python",
   "pygments_lexer": "ipython2",
   "version": "2.7.12"
  }
 },
 "nbformat": 4,
 "nbformat_minor": 1
}
