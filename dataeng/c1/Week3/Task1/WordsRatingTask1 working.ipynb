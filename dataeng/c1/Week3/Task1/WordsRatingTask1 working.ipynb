{
 "cells": [
  {
   "cell_type": "markdown",
   "metadata": {
    "colab_type": "text",
    "id": "Ebk-YqgqEOw1"
   },
   "source": [
    "# Hadoop Streaming assignment 1: Words Rating"
   ]
  },
  {
   "cell_type": "markdown",
   "metadata": {
    "colab_type": "text",
    "id": "XDLjl7hGEOw2"
   },
   "source": [
    "The purpose of this task is to create your own WordCount program for Wikipedia dump processing and learn basic concepts of the MapReduce.\n",
    "\n",
    "In this task you have to find the 7th word by popularity and its quantity in the reverse order (most popular first) in Wikipedia data (`/data/wiki/en_articles_part`).\n",
    "\n",
    "There are several points for this task:\n",
    "\n",
    "1) As an output, you have to get the 7th word and its quantity separated by a tab character.\n",
    "\n",
    "2) You must use the second job to obtain a totally ordered result.\n",
    "\n",
    "3) Do not forget to redirect all trash and output to /dev/null.\n",
    "\n",
    "Here you can find the draft of the task main steps. You can use other methods for solution obtaining."
   ]
  },
  {
   "cell_type": "markdown",
   "metadata": {
    "colab_type": "text",
    "id": "lIUikVIDEOw2"
   },
   "source": [
    "## Step 1. Create mapper and reducer.\n",
    "\n",
    "<b>Hint:</b>  Demo task contains almost all the necessary pieces to complete this assignment. You may use the demo to implement the first MapReduce Job."
   ]
  },
  {
   "cell_type": "code",
   "execution_count": 2,
   "metadata": {
    "colab": {
     "autoexec": {
      "startup": false,
      "wait_interval": 0
     }
    },
    "colab_type": "code",
    "id": "A7T5mxDwEOw4"
   },
   "outputs": [
    {
     "name": "stdout",
     "output_type": "stream",
     "text": [
      "Writing mapper1.py\n"
     ]
    }
   ],
   "source": [
    "%%writefile mapper1.py\n",
    "\n",
    "import sys\n",
    "import re\n",
    "\n",
    "reload(sys)\n",
    "sys.setdefaultencoding('utf-8') # required to convert to unicode\n",
    "\n",
    "for line in sys.stdin:\n",
    "    try:\n",
    "        article_id, text = unicode(line.strip()).split('\\t', 1)\n",
    "    except ValueError as e:\n",
    "        continue\n",
    "    words = re.split(\"\\W*\\s+\\W*\", text, flags=re.UNICODE)\n",
    "    for word in words:\n",
    "        print >> sys.stderr, \"reporter:counter:Wiki stats,Total words,%d\" % 1\n",
    "        print \"%s\\t%d\" % (word.lower(), 1)"
   ]
  },
  {
   "cell_type": "code",
   "execution_count": 3,
   "metadata": {
    "colab": {
     "autoexec": {
      "startup": false,
      "wait_interval": 0
     }
    },
    "colab_type": "code",
    "id": "oE8KFKqpEOw5"
   },
   "outputs": [
    {
     "name": "stdout",
     "output_type": "stream",
     "text": [
      "Writing reducer1.py\n"
     ]
    }
   ],
   "source": [
    "%%writefile reducer1.py\n",
    "\n",
    "import sys\n",
    "\n",
    "current_key = None\n",
    "word_sum = 0\n",
    "\n",
    "for line in sys.stdin:\n",
    "    try:\n",
    "        key, count = line.strip().split('\\t', 1)\n",
    "        count = int(count)\n",
    "    except ValueError as e:\n",
    "        continue\n",
    "    if current_key != key:\n",
    "        if current_key:\n",
    "            print \"%s\\t%d\" % (current_key, word_sum)\n",
    "        word_sum = 0\n",
    "        current_key = key\n",
    "    word_sum += count\n",
    "\n",
    "if current_key:\n",
    "    print \"%s\\t%d\" % (current_key, word_sum)"
   ]
  },
  {
   "cell_type": "code",
   "execution_count": 4,
   "metadata": {
    "colab": {
     "autoexec": {
      "startup": false,
      "wait_interval": 0
     }
    },
    "colab_type": "code",
    "id": "LJtc3_u0uXSz"
   },
   "outputs": [],
   "source": [
    "# You can use this cell for other experiments: for example, for combiner."
   ]
  },
  {
   "cell_type": "markdown",
   "metadata": {
    "colab_type": "text",
    "id": "KYZpcwY9EOw6"
   },
   "source": [
    "## Step 2. Create sort job.\n",
    "\n",
    "<b>Hint:</b> You may use MapReduce comparator to solve this step. Make sure that the keys are sorted in ascending order."
   ]
  },
  {
   "cell_type": "code",
   "execution_count": 5,
   "metadata": {
    "colab": {
     "autoexec": {
      "startup": false,
      "wait_interval": 0
     }
    },
    "colab_type": "code",
    "id": "g-NMzQ79EOw7"
   },
   "outputs": [
    {
     "name": "stdout",
     "output_type": "stream",
     "text": [
      "Writing mapper2.py\n"
     ]
    }
   ],
   "source": [
    "%%writefile mapper2.py\n",
    "\n",
    "import sys\n",
    "\n",
    "current_key = None\n",
    "word_sum = 0\n",
    "\n",
    "for line in sys.stdin:\n",
    "    try:\n",
    "        key, count = line.strip().split('\\t', 1)\n",
    "        count = int(count)\n",
    "    except ValueError as e:\n",
    "        continue\n",
    "    if current_key != key:\n",
    "        if current_key:\n",
    "            print \"%d\\t%s\" % (word_sum, current_key)\n",
    "        word_sum = 0\n",
    "        current_key = key\n",
    "    word_sum += count\n",
    "\n",
    "if current_key:\n",
    "    print \"%d\\t%s\" % (word_sum, current_key)"
   ]
  },
  {
   "cell_type": "code",
   "execution_count": 6,
   "metadata": {
    "colab": {
     "autoexec": {
      "startup": false,
      "wait_interval": 0
     }
    },
    "colab_type": "code",
    "id": "qs6SKs7wO4be"
   },
   "outputs": [
    {
     "name": "stdout",
     "output_type": "stream",
     "text": [
      "Writing reducer2.py\n"
     ]
    }
   ],
   "source": [
    "%%writefile reducer2.py\n",
    "\n",
    "import sys\n",
    "\n",
    "current_key = None\n",
    "word_sum = 0\n",
    "\n",
    "for line in sys.stdin:\n",
    "    try:\n",
    "        count, key = line.strip().split('\\t', 1)\n",
    "        count = int(count)\n",
    "    except ValueError as e:\n",
    "        continue\n",
    "    print \"%s\\t%d\" % (key, count)"
   ]
  },
  {
   "cell_type": "markdown",
   "metadata": {
    "colab_type": "text",
    "id": "4OBE81GZEOw8"
   },
   "source": [
    "## Step 3. Bash commands\n",
    "\n",
    "<b> Hint: </b> For printing the exact row you may use basic UNIX commands. For instance, sed/head/tail/... (if you know other commands, you can use them).\n",
    "\n",
    "To run both jobs, you must use two consecutive yarn-commands. Remember that the input for the second job is the ouput for the first job."
   ]
  },
  {
   "cell_type": "code",
   "execution_count": 7,
   "metadata": {
    "colab": {
     "autoexec": {
      "startup": false,
      "wait_interval": 0
     }
    },
    "colab_type": "code",
    "id": "1q9NczdIEOw9"
   },
   "outputs": [
    {
     "name": "stdout",
     "output_type": "stream",
     "text": [
      "the\t822164\n",
      "his\t45001\n",
      "they\t20572\n",
      "been\t20466\n",
      "more\t18578\n",
      "can\t18111\n",
      "american\t17217\n",
      "if\t9523\n",
      "up\t8182\n",
      "them\t7861\n"
     ]
    },
    {
     "name": "stderr",
     "output_type": "stream",
     "text": [
      "rm: `wordcount_result_1539725232985796': No such file or directory\n",
      "rm: `wordcount_result_sorted_1539725232986733': No such file or directory\n",
      "18/10/16 21:27:19 INFO client.RMProxy: Connecting to ResourceManager at /0.0.0.0:8032\n",
      "18/10/16 21:27:19 INFO client.RMProxy: Connecting to ResourceManager at /0.0.0.0:8032\n",
      "18/10/16 21:27:21 INFO mapred.FileInputFormat: Total input files to process : 1\n",
      "18/10/16 21:27:21 INFO mapreduce.JobSubmitter: number of splits:2\n",
      "18/10/16 21:27:21 INFO mapreduce.JobSubmitter: Submitting tokens for job: job_1539719872127_0001\n",
      "18/10/16 21:27:22 INFO impl.YarnClientImpl: Submitted application application_1539719872127_0001\n",
      "18/10/16 21:27:22 INFO mapreduce.Job: The url to track the job: http://25766c28ec59:8088/proxy/application_1539719872127_0001/\n",
      "18/10/16 21:27:22 INFO mapreduce.Job: Running job: job_1539719872127_0001\n",
      "18/10/16 21:27:30 INFO mapreduce.Job: Job job_1539719872127_0001 running in uber mode : false\n",
      "18/10/16 21:27:30 INFO mapreduce.Job:  map 0% reduce 0%\n",
      "18/10/16 21:27:46 INFO mapreduce.Job:  map 30% reduce 0%\n",
      "18/10/16 21:27:52 INFO mapreduce.Job:  map 45% reduce 0%\n",
      "18/10/16 21:27:58 INFO mapreduce.Job:  map 57% reduce 0%\n",
      "18/10/16 21:28:04 INFO mapreduce.Job:  map 67% reduce 0%\n",
      "18/10/16 21:28:07 INFO mapreduce.Job:  map 83% reduce 0%\n",
      "18/10/16 21:28:09 INFO mapreduce.Job:  map 100% reduce 0%\n",
      "18/10/16 21:28:16 INFO mapreduce.Job:  map 100% reduce 25%\n",
      "18/10/16 21:28:19 INFO mapreduce.Job:  map 100% reduce 38%\n",
      "18/10/16 21:28:20 INFO mapreduce.Job:  map 100% reduce 75%\n",
      "18/10/16 21:28:23 INFO mapreduce.Job:  map 100% reduce 100%\n",
      "18/10/16 21:28:24 INFO mapreduce.Job: Job job_1539719872127_0001 completed successfully\n",
      "18/10/16 21:28:25 INFO mapreduce.Job: Counters: 51\n",
      "\tFile System Counters\n",
      "\t\tFILE: Number of bytes read=267362092\n",
      "\t\tFILE: Number of bytes written=402359371\n",
      "\t\tFILE: Number of read operations=0\n",
      "\t\tFILE: Number of large read operations=0\n",
      "\t\tFILE: Number of write operations=0\n",
      "\t\tHDFS: Number of bytes read=76874501\n",
      "\t\tHDFS: Number of bytes written=5364640\n",
      "\t\tHDFS: Number of read operations=30\n",
      "\t\tHDFS: Number of large read operations=0\n",
      "\t\tHDFS: Number of write operations=16\n",
      "\tJob Counters \n",
      "\t\tKilled reduce tasks=1\n",
      "\t\tLaunched map tasks=2\n",
      "\t\tLaunched reduce tasks=8\n",
      "\t\tData-local map tasks=2\n",
      "\t\tTotal time spent by all maps in occupied slots (ms)=72643\n",
      "\t\tTotal time spent by all reduces in occupied slots (ms)=55407\n",
      "\t\tTotal time spent by all map tasks (ms)=72643\n",
      "\t\tTotal time spent by all reduce tasks (ms)=55407\n",
      "\t\tTotal vcore-milliseconds taken by all map tasks=72643\n",
      "\t\tTotal vcore-milliseconds taken by all reduce tasks=55407\n",
      "\t\tTotal megabyte-milliseconds taken by all map tasks=74386432\n",
      "\t\tTotal megabyte-milliseconds taken by all reduce tasks=56736768\n",
      "\tMap-Reduce Framework\n",
      "\t\tMap input records=4100\n",
      "\t\tMap output records=11937375\n",
      "\t\tMap output bytes=109778911\n",
      "\t\tMap output materialized bytes=133653769\n",
      "\t\tInput split bytes=228\n",
      "\t\tCombine input records=0\n",
      "\t\tCombine output records=0\n",
      "\t\tReduce input groups=427144\n",
      "\t\tReduce shuffle bytes=133653769\n",
      "\t\tReduce input records=11937375\n",
      "\t\tReduce output records=426862\n",
      "\t\tSpilled Records=35812125\n",
      "\t\tShuffled Maps =16\n",
      "\t\tFailed Shuffles=0\n",
      "\t\tMerged Map outputs=16\n",
      "\t\tGC time elapsed (ms)=1610\n",
      "\t\tCPU time spent (ms)=161510\n",
      "\t\tPhysical memory (bytes) snapshot=2292809728\n",
      "\t\tVirtual memory (bytes) snapshot=20220735488\n",
      "\t\tTotal committed heap usage (bytes)=1530396672\n",
      "\tShuffle Errors\n",
      "\t\tBAD_ID=0\n",
      "\t\tCONNECTION=0\n",
      "\t\tIO_ERROR=0\n",
      "\t\tWRONG_LENGTH=0\n",
      "\t\tWRONG_MAP=0\n",
      "\t\tWRONG_REDUCE=0\n",
      "\tWiki stats\n",
      "\t\tTotal words=11937375\n",
      "\tFile Input Format Counters \n",
      "\t\tBytes Read=76874273\n",
      "\tFile Output Format Counters \n",
      "\t\tBytes Written=5364640\n",
      "18/10/16 21:28:25 INFO streaming.StreamJob: Output directory: wordcount_result_1539725232985796\n",
      "18/10/16 21:28:27 INFO client.RMProxy: Connecting to ResourceManager at /0.0.0.0:8032\n",
      "18/10/16 21:28:27 INFO client.RMProxy: Connecting to ResourceManager at /0.0.0.0:8032\n",
      "18/10/16 21:28:27 INFO mapred.FileInputFormat: Total input files to process : 8\n",
      "18/10/16 21:28:27 INFO mapreduce.JobSubmitter: number of splits:8\n",
      "18/10/16 21:28:28 INFO mapreduce.JobSubmitter: Submitting tokens for job: job_1539719872127_0002\n",
      "18/10/16 21:28:28 INFO impl.YarnClientImpl: Submitted application application_1539719872127_0002\n",
      "18/10/16 21:28:28 INFO mapreduce.Job: The url to track the job: http://25766c28ec59:8088/proxy/application_1539719872127_0002/\n",
      "18/10/16 21:28:28 INFO mapreduce.Job: Running job: job_1539719872127_0002\n",
      "18/10/16 21:28:37 INFO mapreduce.Job: Job job_1539719872127_0002 running in uber mode : false\n",
      "18/10/16 21:28:37 INFO mapreduce.Job:  map 0% reduce 0%\n",
      "18/10/16 21:28:42 INFO mapreduce.Job:  map 13% reduce 0%\n",
      "18/10/16 21:28:43 INFO mapreduce.Job:  map 75% reduce 0%\n",
      "18/10/16 21:28:47 INFO mapreduce.Job:  map 100% reduce 0%\n",
      "18/10/16 21:28:49 INFO mapreduce.Job:  map 100% reduce 13%\n",
      "18/10/16 21:28:50 INFO mapreduce.Job:  map 100% reduce 25%\n",
      "18/10/16 21:28:51 INFO mapreduce.Job:  map 100% reduce 38%\n",
      "18/10/16 21:28:52 INFO mapreduce.Job:  map 100% reduce 50%\n",
      "18/10/16 21:28:53 INFO mapreduce.Job:  map 100% reduce 63%\n",
      "18/10/16 21:28:54 INFO mapreduce.Job:  map 100% reduce 100%\n",
      "18/10/16 21:28:55 INFO mapreduce.Job: Job job_1539719872127_0002 completed successfully\n",
      "18/10/16 21:28:55 INFO mapreduce.Job: Counters: 50\n",
      "\tFile System Counters\n",
      "\t\tFILE: Number of bytes read=6645297\n",
      "\t\tFILE: Number of bytes written=15537482\n",
      "\t\tFILE: Number of read operations=0\n",
      "\t\tFILE: Number of large read operations=0\n",
      "\t\tFILE: Number of write operations=0\n",
      "\t\tHDFS: Number of bytes read=5365680\n",
      "\t\tHDFS: Number of bytes written=5364640\n",
      "\t\tHDFS: Number of read operations=48\n",
      "\t\tHDFS: Number of large read operations=0\n",
      "\t\tHDFS: Number of write operations=16\n",
      "\tJob Counters \n",
      "\t\tKilled map tasks=1\n",
      "\t\tLaunched map tasks=8\n",
      "\t\tLaunched reduce tasks=8\n",
      "\t\tData-local map tasks=8\n",
      "\t\tTotal time spent by all maps in occupied slots (ms)=28340\n",
      "\t\tTotal time spent by all reduces in occupied slots (ms)=29515\n",
      "\t\tTotal time spent by all map tasks (ms)=28340\n",
      "\t\tTotal time spent by all reduce tasks (ms)=29515\n",
      "\t\tTotal vcore-milliseconds taken by all map tasks=28340\n",
      "\t\tTotal vcore-milliseconds taken by all reduce tasks=29515\n",
      "\t\tTotal megabyte-milliseconds taken by all map tasks=29020160\n",
      "\t\tTotal megabyte-milliseconds taken by all reduce tasks=30223360\n",
      "\tMap-Reduce Framework\n",
      "\t\tMap input records=426862\n",
      "\t\tMap output records=426862\n",
      "\t\tMap output bytes=5791513\n",
      "\t\tMap output materialized bytes=6645633\n",
      "\t\tInput split bytes=1040\n",
      "\t\tCombine input records=0\n",
      "\t\tCombine output records=0\n",
      "\t\tReduce input groups=426862\n",
      "\t\tReduce shuffle bytes=6645633\n",
      "\t\tReduce input records=426862\n",
      "\t\tReduce output records=426862\n",
      "\t\tSpilled Records=853724\n",
      "\t\tShuffled Maps =64\n",
      "\t\tFailed Shuffles=0\n",
      "\t\tMerged Map outputs=64\n",
      "\t\tGC time elapsed (ms)=2132\n",
      "\t\tCPU time spent (ms)=45490\n",
      "\t\tPhysical memory (bytes) snapshot=4111253504\n",
      "\t\tVirtual memory (bytes) snapshot=32296030208\n",
      "\t\tTotal committed heap usage (bytes)=2749366272\n",
      "\tShuffle Errors\n",
      "\t\tBAD_ID=0\n",
      "\t\tCONNECTION=0\n",
      "\t\tIO_ERROR=0\n",
      "\t\tWRONG_LENGTH=0\n",
      "\t\tWRONG_MAP=0\n",
      "\t\tWRONG_REDUCE=0\n",
      "\tFile Input Format Counters \n",
      "\t\tBytes Read=5364640\n",
      "\tFile Output Format Counters \n",
      "\t\tBytes Written=5364640\n",
      "18/10/16 21:28:55 INFO streaming.StreamJob: Output directory: wordcount_result_sorted_1539725232986733\n",
      "cat: Unable to write to output stream.\n"
     ]
    }
   ],
   "source": [
    "%%bash\n",
    "\n",
    "#OUT_DIR=\"assignment1_\"$(date +\"%s%6N\")\n",
    "\n",
    "# Code for your first job\n",
    "# yarn jar /opt/cloudera/parcels/CDH/lib/hadoop-mapreduce/hadoop-streaming.jar ...\n",
    "\n",
    "# Code for your second job\n",
    "# yarn jar /opt/cloudera/parcels/CDH/lib/hadoop-mapreduce/hadoop-streaming.jar ...\n",
    "\n",
    "# Code for obtaining the results\n",
    "#hdfs dfs -cat ${OUT_DIR}/part-00000 | sed -n '7p;8q'\n",
    "#hdfs dfs -rm -r -skipTrash ${OUT_DIR}* > /dev/null\n",
    "\n",
    "OUT_DIR=\"wordcount_result_\"$(date +\"%s%6N\")\n",
    "OUT_DIR2=\"wordcount_result_sorted_\"$(date +\"%s%6N\")\n",
    "NUM_REDUCERS=8\n",
    "\n",
    "hdfs dfs -rm -r -skipTrash ${OUT_DIR} > /dev/null\n",
    "hdfs dfs -rm -r -skipTrash ${OUT_DIR2} > /dev/null\n",
    "\n",
    "yarn jar /opt/cloudera/parcels/CDH/lib/hadoop-mapreduce/hadoop-streaming.jar \\\n",
    "    -D mapred.jab.name=\"Streaming wordCount\" \\\n",
    "    -D mapreduce.job.reduces=${NUM_REDUCERS} \\\n",
    "    -D stream.map.output.field.separator=\"/t\" \\\n",
    "    -files mapper1.py,reducer1.py \\\n",
    "    -mapper \"python mapper1.py\" \\\n",
    "    -reducer \"python reducer1.py\" \\\n",
    "    -input /data/wiki/en_articles_part \\\n",
    "    -output ${OUT_DIR} > /dev/null\n",
    "\n",
    "#hdfs dfs -cat ${OUT_DIR}/part-00000 | head\n",
    "\n",
    "\n",
    "yarn jar /opt/cloudera/parcels/CDH/lib/hadoop-mapreduce/hadoop-streaming.jar \\\n",
    "    -D mapreduce.job.output.key.comparator.class=org.apache.hadoop.mapreduce.lib.partition.KeyFieldBasedComparator \\\n",
    "    -D mapred.jab.name=\"Streaming wordCount\" \\\n",
    "    -D mapreduce.job.reduces=${NUM_REDUCERS} \\\n",
    "    -D stream.map.output.field.separator=\"/t\" \\\n",
    "    -D stream.num.map.output.key.fields=1 \\\n",
    "    -D mapreduce.partition.keycomparator.options=-k1,1nr \\\n",
    "    -files mapper2.py,reducer2.py \\\n",
    "    -mapper \"python mapper2.py\" \\\n",
    "    -reducer \"python reducer2.py\" \\\n",
    "    -input ${OUT_DIR} \\\n",
    "    -output ${OUT_DIR2} > /dev/null\n",
    "\n",
    "hdfs dfs -cat ${OUT_DIR2}/part-00000 | head"
   ]
  },
  {
   "cell_type": "code",
   "execution_count": null,
   "metadata": {},
   "outputs": [],
   "source": []
  },
  {
   "cell_type": "code",
   "execution_count": null,
   "metadata": {},
   "outputs": [],
   "source": []
  }
 ],
 "metadata": {
  "colab": {
   "collapsed_sections": [],
   "default_view": {},
   "name": "701_to_students.ipynb",
   "provenance": [],
   "version": "0.3.2",
   "views": {}
  },
  "kernelspec": {
   "display_name": "Python 2",
   "language": "python",
   "name": "python2"
  },
  "language_info": {
   "codemirror_mode": {
    "name": "ipython",
    "version": 2
   },
   "file_extension": ".py",
   "mimetype": "text/x-python",
   "name": "python",
   "nbconvert_exporter": "python",
   "pygments_lexer": "ipython2",
   "version": "2.7.12"
  }
 },
 "nbformat": 4,
 "nbformat_minor": 1
}
